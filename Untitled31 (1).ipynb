{
 "cells": [
  {
   "cell_type": "code",
   "execution_count": 54,
   "id": "c4439f32-061c-489f-9dd1-ba07fdab3d47",
   "metadata": {},
   "outputs": [
    {
     "name": "stdout",
     "output_type": "stream",
     "text": [
      "From: LinkedIn Job Alerts <jobalerts-noreply@linkedin.com> | Subject: =?UTF-8?Q?=E2=80=9Ccontent_writer=E2=80=9D:_InfobelPRO_-?=\n",
      " =?UTF-8?Q?_SEO_/_Content_writer_and_more?=\n",
      "\n",
      "Body:\n",
      "Your job alert for content writer in Roorkee\n",
      "9 new jobs match your preferences.\n",
      "          \n",
      "SEO / Content writer\n",
      "InfobelPRO\n",
      "India\n",
      "This company is actively hiring\n",
      "Apply with resume & profile\n",
      "View job: https://www.linkedin.com/comm/jobs/view/4199599852/?trackingId=kHL%2F7v%2FuOaVNz8QL9b2nmw%3D%3D&refId=ByteString%28length%3D16%2Cbytes%3D20652c3e...64db3574%29&lipi=urn%3Ali%3Apage%3Aemail_email_job_alert_digest_01%3B9yeALjqyRuOA7MIERRfgIg%3D%3D&midToken=AQHU1o2JbOsgEQ&midSig=38bTROe_F3sbI1&trk=eml-email_job_alert_digest_01-job_card-0-view_job&trkEmail=eml-email_job_alert_digest_01-job_card-0-view_job-null-kbuqbj~m914unuw~mf-null-null&eid=kbuqbj-m914unuw-mf&otpToken=MTMwNzFjZTkxMDJkY2FjNGJjMjkwZmViNDExYWU0YjI4OGNmZDI0NzlmYTg4ZTYzN2JjZjA3Njg0OTVmNTRmM2YwZDVkY2U5NjllNGRlZjY3N2E4YzM4OTYwODgyNmNiZDRkMWJkYzU2NzcwZTQxZjMwZGU4ZWJhLDEsMQ%3D%3D\n",
      "\n",
      "---------------------------------------------------------\n",
      "  \n",
      "          \n",
      "Content Writer\n",
      "CanadianSME Small Business Magazine\n",
      "India\n",
      "Apply with resume & profile\n",
      "View job: https://www.linkedin.com/comm/jobs/view/4196408443/?trackingId=dVaXZimHoncyOeQ9b7hc7Q%3D%3D&refId=ByteString%28length%3D16%2Cbytes%3D20652c3e...64db3574%29&lipi=urn%3Ali%3Apage%3Aemail_email_job_alert_digest_01%3B9yeALjqyRuOA7MIERRfgIg%3D%3D&midToken=AQHU1o2JbOsgEQ&midSig=38bTROe_F3sbI1&trk=eml-email_job_alert_digest_01-job_card-0-view_job&trkEmail=eml-email_job_alert_digest_01-job_card-0-view_job-null-kbuqbj~m914unuw~mf-null-null&eid=kbuqbj-m914unuw-mf&otpToken=MTMwNzFjZTkxMDJkY2FjNGJjMjkwZmViNDExYWU0YjI4OGNmZDI0NzlmYTg4ZTYzN2JjZjA3Njg0OTVmNTRmM2YwZDVkY2U5NjllNGRlZjY3N2E4YzM4OTYwODgyNmNiZDRkMWJkYzU2NzcwZTQxZjMwZGU4ZWJhLDEsMQ%3D%3D\n",
      "\n",
      "---------------------------------------------------------\n",
      "  \n",
      "          \n",
      "Content Writer\n",
      "Thrivento\n",
      "India\n",
      "Apply with resume & profile\n",
      "View job: https://www.linkedin.com/comm/jobs/view/4199870111/?trackingId=PIcg77OWn2TNqzSMkDDExg%3D%3D&refId=ByteString%28length%3D16%2Cbytes%3D20652c3e...64db3574%29&lipi=urn%3Ali%3Apage%3Aemail_email_job_alert_digest_01%3B9yeALjqyRuOA7MIERRfgIg%3D%3D&midToken=AQHU1o2JbOsgEQ&midSig=38bTROe_F3sbI1&trk=eml-email_job_alert_digest_01-job_card-0-view_job&trkEmail=eml-email_job_alert_digest_01-job_card-0-view_job-null-kbuqbj~m914unuw~mf-null-null&eid=kbuqbj-m914unuw-mf&otpToken=MTMwNzFjZTkxMDJkY2FjNGJjMjkwZmViNDExYWU0YjI4OGNmZDI0NzlmYTg4ZTYzN2JjZjA3Njg0OTVmNTRmM2YwZDVkY2U5NjllNGRlZjY3N2E4YzM4OTYwODgyNmNiZDRkMWJkYzU2NzcwZTQxZjMwZGU4ZWJhLDEsMQ%3D%3D\n",
      "\n",
      "---------------------------------------------------------\n",
      "  \n",
      "          \n",
      "Content Writer Intern\n",
      "NxtJob.ai\n",
      "India\n",
      "Apply with resume & profile\n",
      "View job: https://www.linkedin.com/comm/jobs/view/4197593618/?trackingId=THal4qPKK%2F%2FLxZvt3hH3bA%3D%3D&refId=ByteString%28length%3D16%2Cbytes%3D20652c3e...64db3574%29&lipi=urn%3Ali%3Apage%3Aemail_email_job_alert_digest_01%3B9yeALjqyRuOA7MIERRfgIg%3D%3D&midToken=AQHU1o2JbOsgEQ&midSig=38bTROe_F3sbI1&trk=eml-email_job_alert_digest_01-job_card-0-view_job&trkEmail=eml-email_job_alert_digest_01-job_card-0-view_job-null-kbuqbj~m914unuw~mf-null-null&eid=kbuqbj-m914unuw-mf&otpToken=MTMwNzFjZTkxMDJkY2FjNGJjMjkwZmViNDExYWU0YjI4OGNmZDI0NzlmYTg4ZTYzN2JjZjA3Njg0OTVmNTRmM2YwZDVkY2U5NjllNGRlZjY3N2E4YzM4OTYwODgyNmNiZDRkMWJkYzU2NzcwZTQxZjMwZGU4ZWJhLDEsMQ%3D%3D\n",
      "\n",
      "---------------------------------------------------------\n",
      "  \n",
      "          \n",
      "Content Writer\n",
      "Clerk-Tech\n",
      "India\n",
      "Apply with resume & profile\n",
      "View job: https://www.linkedin.com/comm/jobs/view/4196423377/?trackingId=66TmzW6pvb9WDlr5C24KDg%3D%3D&refId=ByteString%28length%3D16%2Cbytes%3D20652c3e...64db3574%29&lipi=urn%3Ali%3Apage%3Aemail_email_job_alert_digest_01%3B9yeALjqyRuOA7MIERRfgIg%3D%3D&midToken=AQHU1o2JbOsgEQ&midSig=38bTROe_F3sbI1&trk=eml-email_job_alert_digest_01-job_card-0-view_job&trkEmail=eml-email_job_alert_digest_01-job_card-0-view_job-null-kbuqbj~m914unuw~mf-null-null&eid=kbuqbj-m914unuw-mf&otpToken=MTMwNzFjZTkxMDJkY2FjNGJjMjkwZmViNDExYWU0YjI4OGNmZDI0NzlmYTg4ZTYzN2JjZjA3Njg0OTVmNTRmM2YwZDVkY2U5NjllNGRlZjY3N2E4YzM4OTYwODgyNmNiZDRkMWJkYzU2NzcwZTQxZjMwZGU4ZWJhLDEsMQ%3D%3D\n",
      "\n",
      "---------------------------------------------------------\n",
      "  \n",
      "          \n",
      "Content Writer Intern\n",
      "HK Technical\n",
      "India\n",
      "Apply with resume & profile\n",
      "View job: https://www.linkedin.com/comm/jobs/view/4196000389/?trackingId=EFTbG%2FcsL4SqIG%2FyMIUubQ%3D%3D&refId=ByteString%28length%3D16%2Cbytes%3D20652c3e...64db3574%29&lipi=urn%3Ali%3Apage%3Aemail_email_job_alert_digest_01%3B9yeALjqyRuOA7MIERRfgIg%3D%3D&midToken=AQHU1o2JbOsgEQ&midSig=38bTROe_F3sbI1&trk=eml-email_job_alert_digest_01-job_card-0-view_job&trkEmail=eml-email_job_alert_digest_01-job_card-0-view_job-null-kbuqbj~m914unuw~mf-null-null&eid=kbuqbj-m914unuw-mf&otpToken=MTMwNzFjZTkxMDJkY2FjNGJjMjkwZmViNDExYWU0YjI4OGNmZDI0NzlmYTg4ZTYzN2JjZjA3Njg0OTVmNTRmM2YwZDVkY2U5NjllNGRlZjY3N2E4YzM4OTYwODgyNmNiZDRkMWJkYzU2NzcwZTQxZjMwZGU4ZWJhLDEsMQ%3D%3D\n",
      "\n",
      "---------------------------------------------------------\n",
      "  \n",
      "See all jobs on LinkedIn:  https://www.linkedin.com/comm/jobs/search?geoId=106893311&f_TPR=a1743570932-&savedSearchId=1738859541&origin=JOB_ALERT_EMAIL&lipi=urn%3Ali%3Apage%3Aemail_email_job_alert_digest_01%3B9yeALjqyRuOA7MIERRfgIg%3D%3D&midToken=AQHU1o2JbOsgEQ&midSig=38bTROe_F3sbI1&trk=eml-email_job_alert_digest_01-job~alert-0-see~all~jobs~text&trkEmail=eml-email_job_alert_digest_01-job~alert-0-see~all~jobs~text-null-kbuqbj~m914unuw~mf-null-null&eid=kbuqbj-m914unuw-mf&otpToken=MTMwNzFjZTkxMDJkY2FjNGJjMjkwZmViNDExYWU0YjI4OGNmZDI0NzlmYTg4ZTYzN2JjZjA3Njg0OTVmNTRmM2YwZDVkY2U5NjllNGRlZjY3N2E4YzM4OTYwODgyNmNiZDRkMWJkYzU2NzcwZTQxZjMwZGU4ZWJhLDEsMQ%3D%3D\n",
      "\n",
      "\n",
      "Job search smarter with Premium\n",
      "https://www.linkedin.com/comm/premium/products/?upsellOrderOrigin=email_job_alert_digest_taj_upsell&utype=job&lipi=urn%3Ali%3Apage%3Aemail_email_job_alert_digest_01%3B9yeALjqyRuOA7MIERRfgIg%3D%3D&midToken=AQHU1o2JbOsgEQ&midSig=38bTROe_F3sbI1&trk=eml-email_job_alert_digest_01-job~alert-0-premium~upsell~text&trkEmail=eml-email_job_alert_digest_01-job~alert-0-premium~upsell~text-null-kbuqbj~m914unuw~mf-null-null&eid=kbuqbj-m914unuw-mf&otpToken=MTMwNzFjZTkxMDJkY2FjNGJjMjkwZmViNDExYWU0YjI4OGNmZDI0NzlmYTg4ZTYzN2JjZjA3Njg0OTVmNTRmM2YwZDVkY2U5NjllNGRlZjY3N2E4YzM4OTYwODgyNmNiZDRkMWJkYzU2NzcwZTQxZjMwZGU4ZWJhLDEsMQ%3D%3D\n",
      "  \n",
      "\n",
      "----------------------------------------\n",
      "\n",
      "This email was intended for Ayush singh (Student at Indian Institute of Technology, Roorkee)\n",
      "Learn why we included this: https://www.linkedin.com/help/linkedin/answer/4788?lang=en&lipi=urn%3Ali%3Apage%3Aemail_email_job_alert_digest_01%3B9yeALjqyRuOA7MIERRfgIg%3D%3D&midToken=AQHU1o2JbOsgEQ&midSig=38bTROe_F3sbI1&trk=eml-email_job_alert_digest_01-SecurityHelp-0-textfooterglimmer&trkEmail=eml-email_job_alert_digest_01-SecurityHelp-0-textfooterglimmer-null-kbuqbj~m914unuw~mf-null-null&eid=kbuqbj-m914unuw-mf&otpToken=MTMwNzFjZTkxMDJkY2FjNGJjMjkwZmViNDExYWU0YjI4OGNmZDI0NzlmYTg4ZTYzN2JjZjA3Njg0OTVmNTRmM2YwZDVkY2U5NjllNGRlZjY3N2E4YzM4OTYwODgyNmNiZDRkMWJkYzU2NzcwZTQxZjMwZGU4ZWJhLDEsMQ%3D%3D\n",
      "You are receiving Job Alert emails.\n",
      "Manage your job alerts:  https://www.linkedin.com/comm/jobs/alerts?lipi=urn%3Ali%3Apage%3Aemail_email_job_alert_digest_01%3B9yeALjqyRuOA7MIERRfgIg%3D%3D&midToken=AQHU1o2JbOsgEQ&midSig=38bTROe_F3sbI1&trk=eml-email_job_alert_digest_01-null-0-null&trkEmail=eml-email_job_alert_digest_01-null-0-null-null-kbuqbj~m914unuw~mf-null-null&eid=kbuqbj-m914unuw-mf&otpToken=MTMwNzFjZTkxMDJkY2FjNGJjMjkwZmViNDExYWU0YjI4OGNmZDI0NzlmYTg4ZTYzN2JjZjA3Njg0OTVmNTRmM2YwZDVkY2U5NjllNGRlZjY3N2E4YzM4OTYwODgyNmNiZDRkMWJkYzU2NzcwZTQxZjMwZGU4ZWJhLDEsMQ%3D%3D \n",
      "Unsubscribe: https://www.linkedin.com/job-alert-email-unsubscribe?savedSearchId=1738859541&lipi=urn%3Ali%3Apage%3Aemail_email_job_alert_digest_01%3B9yeALjqyRuOA7MIERRfgIg%3D%3D&midToken=AQHU1o2JbOsgEQ&midSig=38bTROe_F3sbI1&ek=email_job_alert_digest_01&e=kbuqbj-m914unuw-mf&eid=kbuqbj-m914unuw-mf&m=unsubscribe&ts=footerGlimmer&li=0&t=plh    ·  Help: https://www.linkedin.com/help/linkedin/answer/67?lang=en&lipi=urn%3Ali%3Apage%3Aemail_email_job_alert_digest_01%3B9yeALjqyRuOA7MIERRfgIg%3D%3D&midToken=AQHU1o2JbOsgEQ&midSig=38bTROe_F3sbI1&trk=eml-email_job_alert_digest_01-help-0-textfooterglimmer&trkEmail=eml-email_job_alert_digest_01-help-0-textfooterglimmer-null-kbuqbj~m914unuw~mf-null-null&eid=kbuqbj-m914unuw-mf&otpToken=MTMwNzFjZTkxMDJkY2FjNGJjMjkwZmViNDExYWU0YjI4OGNmZDI0NzlmYTg4ZTYzN2JjZjA3Njg0OTVmNTRmM2YwZDVkY2U5NjllNGRlZjY3N2E4YzM4OTYwODgyNmNiZDRkMWJkYzU2NzcwZTQxZjMwZGU4ZWJhLDEsMQ%3D%3D\n",
      "\n",
      "© 2025 LinkedIn Corporation, 1zwnj000 West Maude Avenue, Sunnyvale, CA 94085.\n",
      "LinkedIn and the LinkedIn logo are registered trademarks of LinkedIn.\n"
     ]
    },
    {
     "data": {
      "text/plain": [
       "('BYE', [b'LOGOUT Requested'])"
      ]
     },
     "execution_count": 54,
     "metadata": {},
     "output_type": "execute_result"
    }
   ],
   "source": [
    "import imaplib\n",
    "import email\n",
    "\n",
    "EMAIL = \"your email id\"\n",
    "APP_PASSWORD = \"16 word passkey\"\n",
    "MAILBOX = \"inbox\"\n",
    "\n",
    "\n",
    "mail = imaplib.IMAP4_SSL(\"imap.gmail.com\")\n",
    "mail.login(EMAIL, APP_PASSWORD)\n",
    "mail.select(MAILBOX)\n",
    "\n",
    "\n",
    "status, messages = mail.search(None, \"UNSEEN\")\n",
    "email_ids = messages[0].split()\n",
    "\n",
    "if email_ids: \n",
    "    last_email_id = email_ids[-1]  \n",
    "\n",
    "    \n",
    "    status, msg_data = mail.fetch(last_email_id, \"(RFC822)\")\n",
    "    msg = email.message_from_bytes(msg_data[0][1])\n",
    "    \n",
    "    subject = msg[\"subject\"]\n",
    "    sender = msg[\"from\"]\n",
    "\n",
    "    \n",
    "    body = \"\"\n",
    "    if msg.is_multipart():  \n",
    "        for part in msg.walk():\n",
    "            content_type = part.get_content_type()\n",
    "            content_disposition = str(part.get(\"Content-Disposition\"))\n",
    "\n",
    "            if content_type == \"text/plain\" and \"attachment\" not in content_disposition:\n",
    "                body = part.get_payload(decode=True).decode(\"utf-8\", errors=\"ignore\")  \n",
    "                break  \n",
    "    else:\n",
    "        body = msg.get_payload(decode=True).decode(\"utf-8\", errors=\"ignore\")  \n",
    "    \n",
    "    print(f\"From: {sender} | Subject: {subject}\\n\")\n",
    "    print(f\"Body:\\n{body}\")\n",
    "\n",
    "else:\n",
    "    print(\"No unread emails found.\")\n",
    "\n",
    "mail.logout()"
   ]
  },
  {
   "cell_type": "code",
   "execution_count": 11,
   "id": "b0ab03f7-a9e6-4b0e-a2f6-2cee5f4141b2",
   "metadata": {},
   "outputs": [],
   "source": [
    "from langchain_groq import ChatGroq\n",
    "llm = ChatGroq(model_name=\"llama3-8b-8192\", groq_api_key=\"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\")"
   ]
  },
  {
   "cell_type": "code",
   "execution_count": 15,
   "id": "26cb72c9-d462-466b-a2b5-0e0bdfd82a65",
   "metadata": {},
   "outputs": [
    {
     "data": {
      "text/plain": [
       "AIMessage(content='Michael Jordan: Legendary Basketball Player and Iconic Sports Figure', additional_kwargs={}, response_metadata={'token_usage': {'completion_tokens': 12, 'prompt_tokens': 20, 'total_tokens': 32, 'completion_time': 0.01, 'prompt_time': 0.007426996, 'queue_time': 1.024912268, 'total_time': 0.017426996}, 'model_name': 'llama3-8b-8192', 'system_fingerprint': 'fp_dadc9d6142', 'finish_reason': 'stop', 'logprobs': None}, id='run-47dad3a9-0332-4398-bff3-2ea99ada6e96-0', usage_metadata={'input_tokens': 20, 'output_tokens': 12, 'total_tokens': 32})"
      ]
     },
     "execution_count": 15,
     "metadata": {},
     "output_type": "execute_result"
    }
   ],
   "source": [
    "llm.invoke(\"who is machael jordan in 10 words\")"
   ]
  },
  {
   "cell_type": "code",
   "execution_count": 56,
   "id": "ef16b9a2-a8b8-4c1c-bc86-fe698a95bf1e",
   "metadata": {},
   "outputs": [
    {
     "name": "stdout",
     "output_type": "stream",
     "text": [
      "\n",
      "AI-Generated Reply:\n",
      " Here's a professional email reply:\n",
      "\n",
      "Subject: Re: Your job alert for content writer in Roorkee\n",
      "\n",
      "Dear LinkedIn,\n",
      "\n",
      "Thank you for sending me job alerts that match my preferences. I appreciate the effort you put into curating a list of relevant job openings. However, I would like to request that you refine your search criteria to better match my interests and qualifications.\n",
      "\n",
      "Upon reviewing the job alerts you sent, I noticed that some of the job titles and descriptions do not align with my skills and experience. I would appreciate it if you could provide more tailored job recommendations that take into account my background and expertise.\n",
      "\n",
      "I would also like to request that you consider sending me job alerts that are more specific to my location and industry. As a student at Indian Institute of Technology, Roorkee, I am primarily interested in job opportunities in the Roorkee area.\n",
      "\n",
      "Thank you for your understanding and support. I look forward to receiving more relevant job alerts from LinkedIn.\n",
      "\n",
      "Best regards,\n",
      "Ayush Singh\n"
     ]
    }
   ],
   "source": [
    " \n",
    "    \n",
    "prompt = f\"Generate a professional email reply to the following message:\\n\\n{body}\"\n",
    "\n",
    "response = llm.invoke(prompt)  \n",
    "ai_reply = response.content  \n",
    "\n",
    "print(\"\\nAI-Generated Reply:\\n\", ai_reply)\n"
   ]
  },
  {
   "cell_type": "code",
   "execution_count": 58,
   "id": "5e037939-a691-4e72-a11c-ac0146b69e69",
   "metadata": {},
   "outputs": [
    {
     "name": "stdout",
     "output_type": "stream",
     "text": [
      "\n",
      "✅ Reply sent successfully!\n"
     ]
    }
   ],
   "source": [
    "\n",
    "import smtplib\n",
    "\n",
    "smtp_server = \"smtp.gmail.com\"\n",
    "smtp_port = 587\n",
    "\n",
    "try:\n",
    "    \n",
    "    server = smtplib.SMTP(smtp_server, smtp_port)\n",
    "    server.starttls()\n",
    "    server.login(EMAIL, APP_PASSWORD)  \n",
    "\n",
    "    reply_subject = f\"Re: {subject}\"  \n",
    "    reply_message = f\"Subject: {reply_subject}\\nTo: {sender}\\n\\n{ai_reply}\"\n",
    "\n",
    "    # Send email\n",
    "    server.sendmail(EMAIL, sender, reply_message)\n",
    "    server.quit()\n",
    "\n",
    "    print(\"\\n✅ Reply sent successfully!\")\n",
    "\n",
    "except Exception as e:\n",
    "    print(\"\\n❌ Error sending reply:\", e)\n",
    "\n"
   ]
  },
  {
   "cell_type": "code",
   "execution_count": null,
   "id": "65d60d8d-87af-4629-9085-ce4ce10657c3",
   "metadata": {},
   "outputs": [],
   "source": []
  },
  {
   "cell_type": "code",
   "execution_count": null,
   "id": "8dbabf10-93e2-4dee-8e40-b856695f3faf",
   "metadata": {},
   "outputs": [],
   "source": []
  }
 ],
 "metadata": {
  "kernelspec": {
   "display_name": "Python 3 (ipykernel)",
   "language": "python",
   "name": "python3"
  },
  "language_info": {
   "codemirror_mode": {
    "name": "ipython",
    "version": 3
   },
   "file_extension": ".py",
   "mimetype": "text/x-python",
   "name": "python",
   "nbconvert_exporter": "python",
   "pygments_lexer": "ipython3",
   "version": "3.11.5"
  }
 },
 "nbformat": 4,
 "nbformat_minor": 5
}
